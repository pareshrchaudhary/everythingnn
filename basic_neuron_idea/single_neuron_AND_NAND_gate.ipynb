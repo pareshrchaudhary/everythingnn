{
  "nbformat": 4,
  "nbformat_minor": 0,
  "metadata": {
    "colab": {
      "provenance": []
    },
    "kernelspec": {
      "name": "python3",
      "display_name": "Python 3"
    },
    "language_info": {
      "name": "python"
    }
  },
  "cells": [
    {
      "cell_type": "code",
      "execution_count": 1,
      "metadata": {
        "id": "Tb5npwx_Z5vD"
      },
      "outputs": [],
      "source": [
        "import numpy as np"
      ]
    },
    {
      "cell_type": "code",
      "source": [
        "class Perceptron(object):\n",
        "  def __init__(self, input_size, learningrate = 1, epochs = 500):\n",
        "    self.wt = np.zeros(input_size+1)\n",
        "    self.epochs = epochs\n",
        "    self.learningrate = learningrate\n",
        "\n",
        "  def activationfunction(self,x):\n",
        "    '''\n",
        "    Binary step function as activation function\n",
        "    '''\n",
        "    if x >= 0:\n",
        "      return 1\n",
        "    else:\n",
        "      return 0\n",
        "\n",
        "  def fit(self, X, d):\n",
        "    for i in range(self.epochs):\n",
        "      for j in range(d.shape[0]):\n",
        "        x = np.insert(X[j], 0 ,1)\n",
        "        y = self.predict(x)\n",
        "        e = d[j] - y\n",
        "        self.wt = self.wt + self.learningrate * e * x\n",
        "\n",
        "  def predict(self, x):\n",
        "    z = self.wt.T.dot(x)\n",
        "    a = self.activationfunction(z)\n",
        "    return a\n"
      ],
      "metadata": {
        "id": "-JtsVk0whaJz"
      },
      "execution_count": 2,
      "outputs": []
    },
    {
      "cell_type": "markdown",
      "source": [
        "#AND"
      ],
      "metadata": {
        "id": "ul0Ir31cjdIF"
      }
    },
    {
      "cell_type": "code",
      "source": [
        "X_AND = np.array([[0,0], \n",
        "              [0,1],\n",
        "              [1,0],\n",
        "              [1,1]])\n",
        "print('X_AND = ', X_AND)\n",
        "\n",
        "Y_AND = np.array([0,0,0,1])\n",
        "print('Y_AND = ', Y_AND)"
      ],
      "metadata": {
        "colab": {
          "base_uri": "https://localhost:8080/"
        },
        "id": "SzIbOtT3iNy4",
        "outputId": "cea7d6dc-33a4-44d2-9bad-dbb5240a22e2"
      },
      "execution_count": 8,
      "outputs": [
        {
          "output_type": "stream",
          "name": "stdout",
          "text": [
            "X_AND =  [[0 0]\n",
            " [0 1]\n",
            " [1 0]\n",
            " [1 1]]\n",
            "d =  [0 0 0 1]\n"
          ]
        }
      ]
    },
    {
      "cell_type": "code",
      "source": [
        "AND = Perceptron(input_size=2, learningrate = 1, epochs = 500)\n",
        "AND.fit(X_AND,Y_AND)\n",
        "print(AND.wt)"
      ],
      "metadata": {
        "colab": {
          "base_uri": "https://localhost:8080/"
        },
        "id": "sQvNgJmDikIv",
        "outputId": "c81de18e-4727-4308-87c6-978b6d6deea2"
      },
      "execution_count": 10,
      "outputs": [
        {
          "output_type": "stream",
          "name": "stdout",
          "text": [
            "[-3.  2.  1.]\n"
          ]
        }
      ]
    },
    {
      "cell_type": "code",
      "source": [
        "Testdata2 = [1,1,0]\n",
        "Test2 = AND.wt.dot(Testdata2)\n",
        "Testout2 = AND.activationfunction(Test2)\n",
        "print(Testout2)"
      ],
      "metadata": {
        "colab": {
          "base_uri": "https://localhost:8080/"
        },
        "id": "8EpSODgOkule",
        "outputId": "b305b067-081c-4a04-879e-0d8398574c20"
      },
      "execution_count": 17,
      "outputs": [
        {
          "output_type": "stream",
          "name": "stdout",
          "text": [
            "0\n"
          ]
        }
      ]
    },
    {
      "cell_type": "markdown",
      "source": [
        "#NAND"
      ],
      "metadata": {
        "id": "M8pFmXyujf29"
      }
    },
    {
      "cell_type": "code",
      "source": [
        "X_NAND = np.array([[0,0], \n",
        "              [0,1],\n",
        "              [1,0],\n",
        "              [1,1]])\n",
        "print('X_NAND = ', X_AND)\n",
        "\n",
        "Y_NAND = np.array([1,1,1,0])\n",
        "print('Y_NAND = ', Y_AND)"
      ],
      "metadata": {
        "colab": {
          "base_uri": "https://localhost:8080/"
        },
        "id": "m8vOhtu_jjkf",
        "outputId": "45dd64fb-0999-4c51-8a42-a5a308420c43"
      },
      "execution_count": 18,
      "outputs": [
        {
          "output_type": "stream",
          "name": "stdout",
          "text": [
            "X_NAND =  [[0 0]\n",
            " [0 1]\n",
            " [1 0]\n",
            " [1 1]]\n",
            "Y_NAND =  [0 0 0 1]\n"
          ]
        }
      ]
    },
    {
      "cell_type": "code",
      "source": [
        "NAND = Perceptron(input_size=2, learningrate = 1, epochs = 500)\n",
        "NAND.fit(X_NAND,Y_NAND)\n",
        "print(NAND.wt)"
      ],
      "metadata": {
        "colab": {
          "base_uri": "https://localhost:8080/"
        },
        "id": "gSDvgxnAj2cc",
        "outputId": "d72239ef-18a0-4f17-e2d8-646fda0ee1c6"
      },
      "execution_count": 19,
      "outputs": [
        {
          "output_type": "stream",
          "name": "stdout",
          "text": [
            "[ 2. -2. -1.]\n"
          ]
        }
      ]
    },
    {
      "cell_type": "code",
      "source": [
        "Testdata1 = [1,1,0]\n",
        "TestO = NAND.wt.dot(Testdata1)\n",
        "Testout = NAND.activationfunction(TestO)\n",
        "print(Testout)"
      ],
      "metadata": {
        "colab": {
          "base_uri": "https://localhost:8080/"
        },
        "id": "RVQeW1Tej-GS",
        "outputId": "254cd13c-8b52-465c-e3ff-693fb437b55b"
      },
      "execution_count": 20,
      "outputs": [
        {
          "output_type": "stream",
          "name": "stdout",
          "text": [
            "1\n"
          ]
        }
      ]
    }
  ]
}
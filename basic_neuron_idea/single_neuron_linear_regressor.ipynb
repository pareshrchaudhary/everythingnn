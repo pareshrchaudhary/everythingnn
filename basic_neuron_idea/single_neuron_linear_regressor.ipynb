{
  "nbformat": 4,
  "nbformat_minor": 0,
  "metadata": {
    "colab": {
      "provenance": []
    },
    "kernelspec": {
      "name": "python3",
      "display_name": "Python 3"
    },
    "language_info": {
      "name": "python"
    }
  },
  "cells": [
    {
      "cell_type": "code",
      "execution_count": 1,
      "metadata": {
        "id": "IDL6zZLXTZSl"
      },
      "outputs": [],
      "source": [
        "import numpy as np\n",
        "import random\n",
        "import matplotlib.pyplot as plt"
      ]
    },
    {
      "cell_type": "code",
      "source": [
        "#Data (X,Y)\n",
        "x=np.arange(1,101)\n",
        "y = []\n",
        "for i in range(0,100):\n",
        "  a = 5 * x[i] + random.randint(10,20)\n",
        "  y.append(a)"
      ],
      "metadata": {
        "id": "_sHoGBcVTpZR"
      },
      "execution_count": 6,
      "outputs": []
    },
    {
      "cell_type": "code",
      "source": [
        "print(\"Input data,X:\",x)\n",
        "print(\"Expected output,Y:\",y)"
      ],
      "metadata": {
        "colab": {
          "base_uri": "https://localhost:8080/"
        },
        "id": "ctXc2j_qUidT",
        "outputId": "f65f9736-944f-46d7-9be4-39f40f4bb18f"
      },
      "execution_count": 7,
      "outputs": [
        {
          "output_type": "stream",
          "name": "stdout",
          "text": [
            "Input data,X: [  1   2   3   4   5   6   7   8   9  10  11  12  13  14  15  16  17  18\n",
            "  19  20  21  22  23  24  25  26  27  28  29  30  31  32  33  34  35  36\n",
            "  37  38  39  40  41  42  43  44  45  46  47  48  49  50  51  52  53  54\n",
            "  55  56  57  58  59  60  61  62  63  64  65  66  67  68  69  70  71  72\n",
            "  73  74  75  76  77  78  79  80  81  82  83  84  85  86  87  88  89  90\n",
            "  91  92  93  94  95  96  97  98  99 100]\n",
            "Expected output,Y: [15, 24, 31, 40, 45, 44, 48, 58, 60, 60, 66, 70, 80, 90, 95, 98, 104, 101, 108, 119, 116, 125, 130, 134, 137, 146, 152, 151, 156, 170, 171, 173, 181, 185, 193, 191, 203, 208, 208, 210, 219, 227, 233, 231, 245, 249, 250, 251, 256, 265, 270, 275, 283, 281, 288, 292, 297, 307, 315, 311, 318, 323, 327, 332, 336, 344, 349, 357, 363, 366, 373, 375, 375, 390, 392, 399, 404, 408, 410, 418, 425, 429, 430, 438, 444, 448, 449, 459, 455, 465, 474, 477, 479, 487, 488, 499, 501, 501, 511, 517]\n"
          ]
        }
      ]
    },
    {
      "cell_type": "markdown",
      "source": [
        "y = weights * inputs + bias  | y = mx + c "
      ],
      "metadata": {
        "id": "V2F1cbbeaemH"
      }
    },
    {
      "cell_type": "code",
      "source": [
        "learning_rate = 0.0001\n",
        "iters = 1000\n",
        "weights = []\n",
        "bias = []\n",
        "squared_error = []\n",
        "s_e = 0\n",
        "\n",
        "for j in range(0, iters):\n",
        "  w = 0\n",
        "  b = 0\n",
        "  e = 0\n",
        "  for i in range(0,len(y)):\n",
        "    y_pred = x[i] * w + b\n",
        "    e = y[i] - y_pred\n",
        "    w_new = w + (e*learning_rate * x[i])\n",
        "    b_new = b + (e*learning_rate * x[i])\n",
        "    w = w_new\n",
        "    b = b_new\n",
        "    s_e = s_e + (e*e)\n",
        "    if e<0.01:\n",
        "      w=0\n",
        "      b=0\n",
        "      e=0\n",
        "      break\n",
        "  weights.append(w_new)\n",
        "  bias.append(b_new)\n",
        "  squared_error.append(s_e)"
      ],
      "metadata": {
        "id": "JIYh1fqVTqYp"
      },
      "execution_count": 4,
      "outputs": []
    },
    {
      "cell_type": "code",
      "source": [
        "Y = np.mean(weights) * x + np.mean(bias)\n",
        "print(Y)\n",
        "print(\"Mean weight:\",np.mean(weights))\n",
        "print(\"Mean bias:\",np.mean(bias))"
      ],
      "metadata": {
        "colab": {
          "base_uri": "https://localhost:8080/"
        },
        "id": "ilwM9ZkTf3Q_",
        "outputId": "e566d498-f899-4bf6-e370-11d9199bd81a"
      },
      "execution_count": 8,
      "outputs": [
        {
          "output_type": "stream",
          "name": "stdout",
          "text": [
            "[ 10.33183425  15.49775137  20.66366849  25.82958562  30.99550274\n",
            "  36.16141986  41.32733699  46.49325411  51.65917124  56.82508836\n",
            "  61.99100548  67.15692261  72.32283973  77.48875685  82.65467398\n",
            "  87.8205911   92.98650822  98.15242535 103.31834247 108.48425959\n",
            " 113.65017672 118.81609384 123.98201097 129.14792809 134.31384521\n",
            " 139.47976234 144.64567946 149.81159658 154.97751371 160.14343083\n",
            " 165.30934795 170.47526508 175.6411822  180.80709932 185.97301645\n",
            " 191.13893357 196.3048507  201.47076782 206.63668494 211.80260207\n",
            " 216.96851919 222.13443631 227.30035344 232.46627056 237.63218768\n",
            " 242.79810481 247.96402193 253.12993905 258.29585618 263.4617733\n",
            " 268.62769043 273.79360755 278.95952467 284.1254418  289.29135892\n",
            " 294.45727604 299.62319317 304.78911029 309.95502741 315.12094454\n",
            " 320.28686166 325.45277878 330.61869591 335.78461303 340.95053016\n",
            " 346.11644728 351.2823644  356.44828153 361.61419865 366.78011577\n",
            " 371.9460329  377.11195002 382.27786714 387.44378427 392.60970139\n",
            " 397.77561851 402.94153564 408.10745276 413.27336988 418.43928701\n",
            " 423.60520413 428.77112126 433.93703838 439.1029555  444.26887263\n",
            " 449.43478975 454.60070687 459.766624   464.93254112 470.09845824\n",
            " 475.26437537 480.43029249 485.59620961 490.76212674 495.92804386\n",
            " 501.09396099 506.25987811 511.42579523 516.59171236 521.75762948]\n",
            "Mean weight: 5.165917123560902\n",
            "Mean bias: 5.165917123560902\n"
          ]
        }
      ]
    },
    {
      "cell_type": "code",
      "source": [
        "plt.scatter(x,y,color=\"blue\",label=\"Input data\")\n",
        "plt.plot(x,Y,color=\"red\",label=\"Regression line\")\n",
        "plt.legend()\n",
        "plt.xlabel(\"X\")\n",
        "plt.ylabel(\"Y\")"
      ],
      "metadata": {
        "colab": {
          "base_uri": "https://localhost:8080/",
          "height": 296
        },
        "id": "w5EAYiUwT6IN",
        "outputId": "b3067ebd-63cb-48b7-bf42-fb2e493511a0"
      },
      "execution_count": 9,
      "outputs": [
        {
          "output_type": "execute_result",
          "data": {
            "text/plain": [
              "Text(0, 0.5, 'Y')"
            ]
          },
          "metadata": {},
          "execution_count": 9
        },
        {
          "output_type": "display_data",
          "data": {
            "text/plain": [
              "<Figure size 432x288 with 1 Axes>"
            ],
            "image/png": "[encoded data removed]"
          },
          "metadata": {
            "needs_background": "light"
          }
        }
      ]
    }
  ]
}
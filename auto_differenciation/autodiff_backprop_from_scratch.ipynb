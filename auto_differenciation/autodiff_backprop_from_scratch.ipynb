{
  "nbformat": 4,
  "nbformat_minor": 0,
  "metadata": {
    "colab": {
      "provenance": []
    },
    "kernelspec": {
      "name": "python3",
      "display_name": "Python 3"
    },
    "language_info": {
      "name": "python"
    }
  },
  "cells": [
    {
      "cell_type": "code",
      "execution_count": 2,
      "metadata": {
        "id": "sGxUvwzB6_Na"
      },
      "outputs": [],
      "source": [
        "import math\n",
        "import numpy as np\n",
        "import matplotlib.pyplot as plt\n",
        "%matplotlib inline"
      ]
    },
    {
      "cell_type": "code",
      "source": [
        "class Unit:\n",
        "  \n",
        "  def __init__(self, data, _children=(), _op=''):\n",
        "    self.data = data\n",
        "    self.grad = 0\n",
        "    self._backward = lambda:None\n",
        "    self._prev = set(_children)\n",
        "    self._op = _op\n",
        "\n",
        "  def __repr__(self):\n",
        "    return f\"Unit(data={self.data})\" \n",
        "\n",
        "  def __rmul__(self, other):\n",
        "    return self * other\n",
        "\n",
        "  def __add__(self, other):\n",
        "    other = other if isinstance(other, Unit) else Unit(other)\n",
        "    out = Unit(self.data + other.data, (self, other), '+')\n",
        "    def _backward():\n",
        "      self.grad += 1.0 * out.grad\n",
        "      other.grad += 1.0 * out.grad\n",
        "    out._backward = _backward\n",
        "    return out\n",
        "\n",
        "  def __neg__(self):\n",
        "    return self * -1\n",
        "  \n",
        "  def __sub__(self, other):\n",
        "    return self + (-other)\n",
        "    \n",
        "  def __mul__(self, other):\n",
        "    other = other if isinstance(other, Unit) else Unit(other)\n",
        "    out = Unit(self.data * other.data, (self, other), '*')\n",
        "    def _backward():\n",
        "      self.grad += other.data * out.grad\n",
        "      other.grad += self.data * out.grad\n",
        "    out._backward = _backward\n",
        "    return out\n",
        "\n",
        "  def __pow__(self, other):\n",
        "    assert isinstance(other, (int, float)), 'only ints and floats'\n",
        "    out = Unit(self.data**other, (self, ), f'**{other}')\n",
        "    def _backward():\n",
        "      self.grad += other * self.data ** (other -1) * out.grad\n",
        "    out._backward = _backward\n",
        "    return out\n",
        "\n",
        "  def __truediv__(self, other):\n",
        "    return self * other**-1\n",
        "\n",
        "  def exp(self):\n",
        "    x = self.data\n",
        "    out = Unit(math.exp(x), (self, ), 'exp')\n",
        "    def _backward():\n",
        "      self.grad += out.data * out.grad\n",
        "    out._backward = _backward\n",
        "    return out\n",
        "\n",
        "  def sin(self):\n",
        "    x = self.data\n",
        "    out = Unit(math.sin(x), (self,), 'sin')\n",
        "    def _backward():\n",
        "      self.grad += math.cos(out.data) * out.grad \n",
        "    out._backward = _backward\n",
        "    return out\n",
        "\n",
        "  def backward(self):\n",
        "    topo = []\n",
        "    visited = set()\n",
        "    def build_topo(v):\n",
        "      if v not in visited:\n",
        "        visited.add(v)\n",
        "        for child in v._prev:\n",
        "          build_topo(child)\n",
        "        topo.append(v)\n",
        "    build_topo(self)\n",
        "\n",
        "    self.grad = 1.0\n",
        "    for node in reversed(topo):\n",
        "      node._backward()"
      ],
      "metadata": {
        "id": "74wsPlJ4F6oD"
      },
      "execution_count": 27,
      "outputs": []
    },
    {
      "cell_type": "code",
      "source": [
        "a = Unit(8.0)\n",
        "b = Unit(2.0)\n",
        "\n",
        "print(a - b)"
      ],
      "metadata": {
        "colab": {
          "base_uri": "https://localhost:8080/"
        },
        "id": "otXDiNW6xH6p",
        "outputId": "cefdf215-e2fe-448b-d494-262ab73aa9bb"
      },
      "execution_count": 28,
      "outputs": [
        {
          "output_type": "stream",
          "name": "stdout",
          "text": [
            "Unit(data=6.0)\n"
          ]
        }
      ]
    },
    {
      "cell_type": "code",
      "source": [
        "x1 = Unit(2.0)\n",
        "x2 = Unit(0.0)\n",
        "\n",
        "w1 = Unit(-3.0)\n",
        "w2 = Unit(1.0)\n",
        "\n",
        "b = Unit(6.8813735870195432)\n",
        "\n",
        "x1w1 = x1*w1\n",
        "x2w2 = x2*w2\n",
        "x1w1x2w2 = x1w1+x2w2\n",
        "\n",
        "n = x1w1x2w2 + b\n",
        "\n",
        "e = (2*n).exp()\n",
        "o = (e - 1)/(e + 1)\n",
        "\n",
        "o.backward()"
      ],
      "metadata": {
        "id": "GKs7VUg6fHIu"
      },
      "execution_count": 44,
      "outputs": []
    },
    {
      "cell_type": "code",
      "source": [
        "print(x1.grad)\n",
        "print(x2.grad)\n",
        "print(w1.grad)\n",
        "print(w2.grad)"
      ],
      "metadata": {
        "colab": {
          "base_uri": "https://localhost:8080/"
        },
        "id": "ylE_W3BevtFU",
        "outputId": "b9174fb2-a0ea-49ec-8d8b-3309116bf967"
      },
      "execution_count": 46,
      "outputs": [
        {
          "output_type": "stream",
          "name": "stdout",
          "text": [
            "-1.5\n",
            "0.5\n",
            "1.0\n",
            "0.0\n"
          ]
        }
      ]
    }
  ]
}
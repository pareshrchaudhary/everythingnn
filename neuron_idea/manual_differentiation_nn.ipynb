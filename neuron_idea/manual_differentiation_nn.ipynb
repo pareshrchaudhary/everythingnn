{
  "nbformat": 4,
  "nbformat_minor": 0,
  "metadata": {
    "colab": {
      "provenance": []
    },
    "kernelspec": {
      "name": "python3",
      "display_name": "Python 3"
    },
    "language_info": {
      "name": "python"
    }
  },
  "cells": [
    {
      "cell_type": "code",
      "execution_count": 7,
      "metadata": {
        "id": "BIg4uKlcl1Ov"
      },
      "outputs": [],
      "source": [
        "import numpy as np\n",
        "import matplotlib.pyplot as plt"
      ]
    },
    {
      "cell_type": "code",
      "source": [
        "def sigmoid (x):\n",
        "  return 1/(1 + np.exp(-x))\n",
        "\n",
        "def derivative(x):\n",
        "  return x * (1 - x)\n",
        "\n",
        "def print_data():\n",
        "  if i % 2000 == 0:\n",
        "    print(\"\\nEpoch:{}/{}\".format(i,epochs))\n",
        "    print(\"output weights & bias:{}&{}\".format(output_weights,output_bias))\n",
        "    print(\"hidden weights & bias:{}&{}\".format(hidden_weights,hidden_bias))"
      ],
      "metadata": {
        "id": "8LmEgtEV3lxf"
      },
      "execution_count": 29,
      "outputs": []
    },
    {
      "cell_type": "code",
      "source": [
        "inputs = np.array([[0,0],[0,1],[1,0],[1,1]])\n",
        "expected_output = np.array([[0],[1],[1],[0]])\n",
        "epochs=10000\n",
        "lr = 0.1\n",
        "inputLayerNeurons, hiddenLayerNeurons, outputLayerNeurons = 2,2,1"
      ],
      "metadata": {
        "id": "TjmLZxvF4B6s"
      },
      "execution_count": 30,
      "outputs": []
    },
    {
      "cell_type": "code",
      "source": [
        "hidden_weights = np.random.uniform(size=(inputLayerNeurons,hiddenLayerNeurons))\n",
        "hidden_bias    = np.random.uniform(size=(1,hiddenLayerNeurons))\n",
        "output_weights = np.random.uniform(size=(hiddenLayerNeurons,outputLayerNeurons))\n",
        "output_bias    = np.random.uniform(size=(1,outputLayerNeurons))\n",
        "print(\"hidden weights:{}, hidden bias:{}\".format(hidden_weights, hidden_bias))\n",
        "print(\"output weights:{}, output bias:{}\".format(output_weights, output_bias))"
      ],
      "metadata": {
        "colab": {
          "base_uri": "https://localhost:8080/"
        },
        "id": "6d_Veqty4Cmx",
        "outputId": "032bacd2-1464-4a3d-d6c9-83941ea8b383"
      },
      "execution_count": 31,
      "outputs": [
        {
          "output_type": "stream",
          "name": "stdout",
          "text": [
            "hidden weights:[[0.10922536 0.592339  ]\n",
            " [0.3021827  0.29041982]], hidden bias:[[0.84783786 0.58689135]]\n",
            "output weights:[[0.75050492]\n",
            " [0.41494221]], output bias:[[0.41957453]]\n"
          ]
        }
      ]
    },
    {
      "cell_type": "code",
      "source": [
        "error_viz =[]\n",
        "for i in range(epochs):\n",
        "    #Forward Propagation\n",
        "    hidden_layer_activation = np.dot(inputs,hidden_weights) + hidden_bias\n",
        "    hidden_layer_output = sigmoid(hidden_layer_activation)\n",
        "    output_layer_activation = np.dot(hidden_layer_output,output_weights) + output_bias\n",
        "    predicted_output = sigmoid(output_layer_activation)\n",
        "    #Backpropagation\n",
        "    error = expected_output - predicted_output\n",
        "    d_predicted_output = error * derivative(predicted_output)\n",
        "    error_hidden_layer = d_predicted_output.dot(output_weights.T)\n",
        "    d_hidden_layer = error_hidden_layer * derivative(hidden_layer_output)\n",
        "    #Updating Weights and Biases\n",
        "    output_weights += hidden_layer_output.T.dot(d_predicted_output) * lr\n",
        "    output_bias += np.sum(d_predicted_output,axis=0,keepdims=True) * lr\n",
        "    hidden_weights += inputs.T.dot(d_hidden_layer) * lr\n",
        "    hidden_bias += np.sum(d_hidden_layer,axis=0,keepdims=True) * lr\n",
        "    error_viz.append(np.mean(error))\n",
        "    print_data()"
      ],
      "metadata": {
        "colab": {
          "base_uri": "https://localhost:8080/"
        },
        "id": "r4wr9ps_4Faf",
        "outputId": "0b8e6ff0-877f-4562-9964-3472f778c709"
      },
      "execution_count": 32,
      "outputs": [
        {
          "output_type": "stream",
          "name": "stdout",
          "text": [
            "\n",
            "Epoch:0/10000\n",
            "output weights & bias:[[0.73630361]\n",
            " [0.40103965]]&[[0.40032414]]\n",
            "hidden weights & bias:[[0.10809965 0.59179403]\n",
            " [0.30100503 0.28991579]]&[[0.84507147 0.58536592]]\n",
            "\n",
            "Epoch:2000/10000\n",
            "output weights & bias:[[0.27504928]\n",
            " [0.22457563]]&[[-0.36834892]]\n",
            "hidden weights & bias:[[0.27308647 0.65435866]\n",
            " [0.37246637 0.4112929 ]]&[[0.79036462 0.57763709]]\n",
            "\n",
            "Epoch:4000/10000\n",
            "output weights & bias:[[0.10725967]\n",
            " [1.04075502]]&[[-0.91840477]]\n",
            "hidden weights & bias:[[0.48319647 1.39563535]\n",
            " [0.54323793 1.32482012]]&[[0.79946926 0.50742274]]\n",
            "\n",
            "Epoch:6000/10000\n",
            "output weights & bias:[[-1.59887733]\n",
            " [ 3.7234355 ]]&[[-1.92016025]]\n",
            "hidden weights & bias:[[0.65323299 3.98092796]\n",
            " [0.77214417 3.99022029]]&[[ 0.19016327 -0.62164837]]\n",
            "\n",
            "Epoch:8000/10000\n",
            "output weights & bias:[[-6.03715247]\n",
            " [ 5.86771014]]&[[-2.63227789]]\n",
            "hidden weights & bias:[[2.69238321 5.27452709]\n",
            " [2.69456964 5.29111508]]&[[-4.01801912 -1.82597773]]\n"
          ]
        }
      ]
    },
    {
      "cell_type": "code",
      "source": [
        "print(\"\\nOutput after {} epochs\".format(epochs))\n",
        "print(*predicted_output)"
      ],
      "metadata": {
        "colab": {
          "base_uri": "https://localhost:8080/"
        },
        "id": "gIhwoe_24Jkw",
        "outputId": "79611f6e-0fe1-4dc0-91f3-113e9b5678cc"
      },
      "execution_count": 6,
      "outputs": [
        {
          "output_type": "stream",
          "name": "stdout",
          "text": [
            "\n",
            "Output after 10000 epochs\n",
            "[0.07535026] [0.92731982] [0.92829602] [0.08015754]\n"
          ]
        }
      ]
    }
  ]
}